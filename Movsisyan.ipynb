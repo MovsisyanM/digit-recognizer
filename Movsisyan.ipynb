{
 "cells": [
  {
   "cell_type": "markdown",
   "source": [
    "# Digit recognition - multiclass classification\r\n"
   ],
   "metadata": {}
  },
  {
   "cell_type": "markdown",
   "source": [
    "## Processing of collected data (not MNIST)"
   ],
   "metadata": {}
  },
  {
   "cell_type": "code",
   "execution_count": 67,
   "source": [
    "import pickle\r\n",
    "import pandas as pd\r\n",
    "import numpy as np\r\n",
    "import matplotlib.pyplot as plt\r\n",
    "from sklearn.metrics import classification_report, confusion_matrix\r\n",
    "from keras import backend as K\r\n",
    "from keras.models import Sequential\r\n",
    "from keras.layers import Dense, Flatten, Dropout, Conv2D, MaxPool2D, BatchNormalization, Conv1D\r\n",
    "from keras.optimizers import RMSprop, SGD, Adam\r\n",
    "from keras.utils.np_utils import to_categorical\r\n",
    "from keras.callbacks import EarlyStopping"
   ],
   "outputs": [],
   "metadata": {}
  },
  {
   "cell_type": "code",
   "execution_count": 16,
   "source": [
    "df = pd.read_csv(\"data/drawings.csv\")"
   ],
   "outputs": [],
   "metadata": {}
  },
  {
   "cell_type": "code",
   "execution_count": 63,
   "source": [
    "model = Sequential([\r\n",
    "        Conv2D(32,(3,3), padding=\"same\", activation='relu', input_shape=(28,28,1)),\r\n",
    "        BatchNormalization(axis=1),\r\n",
    "        Conv2D(32,(3,3), activation='relu'),\r\n",
    "        MaxPool2D(),\r\n",
    "        BatchNormalization(axis=1),\r\n",
    "        Conv2D(64,(3,3), activation='relu'),\r\n",
    "        BatchNormalization(axis=1),\r\n",
    "        Conv2D(64,(3,3), activation='relu'),\r\n",
    "        MaxPool2D(),\r\n",
    "        Flatten(),\r\n",
    "        Dropout(0.25),\r\n",
    "        Dense(512, activation='relu'),\r\n",
    "        Dropout(0.2),\r\n",
    "        Dense(10, activation='softmax')\r\n",
    "        ])\r\n",
    "\r\n",
    "model.compile(Adam(), \"categorical_crossentropy\")"
   ],
   "outputs": [],
   "metadata": {}
  },
  {
   "cell_type": "code",
   "execution_count": 64,
   "source": [
    "y = to_categorical(df.label)\r\n",
    "hist = model.fit(np.array(df.iloc[:, :-1]).reshape(len(df), 28, 28, 1), y, epochs=3, batch_size=10, validation_split=0.2, shuffle=True)"
   ],
   "outputs": [
    {
     "output_type": "stream",
     "name": "stdout",
     "text": [
      "Epoch 1/3\n",
      "442/442 [==============================] - 17s 38ms/step - loss: 0.3969 - val_loss: 1.0274\n",
      "Epoch 2/3\n",
      "442/442 [==============================] - 17s 39ms/step - loss: 0.1207 - val_loss: 0.1102\n",
      "Epoch 3/3\n",
      "442/442 [==============================] - 18s 41ms/step - loss: 0.0856 - val_loss: 0.0552\n"
     ]
    }
   ],
   "metadata": {}
  },
  {
   "cell_type": "code",
   "execution_count": 65,
   "source": [
    "plt.plot(hist.history[\"loss\"])\r\n",
    "plt.plot(hist.history[\"val_loss\"]);"
   ],
   "outputs": [
    {
     "output_type": "display_data",
     "data": {
      "text/plain": [
       "<Figure size 432x288 with 1 Axes>"
      ],
      "image/png": "[encoded data removed]"
     },
     "metadata": {
      "needs_background": "light"
     }
    }
   ],
   "metadata": {}
  },
  {
   "cell_type": "code",
   "execution_count": 83,
   "source": [
    "model2 = Sequential([\r\n",
    "        Conv2D(32,(3,3), padding=\"same\", activation='relu', input_shape=(28,28,1)),\r\n",
    "        BatchNormalization(axis=1),\r\n",
    "        Conv2D(32,(3,3), activation='relu'),\r\n",
    "        MaxPool2D(),\r\n",
    "        BatchNormalization(axis=1),\r\n",
    "        Conv2D(64,(3,3), activation='relu'),\r\n",
    "        BatchNormalization(axis=1),\r\n",
    "        Conv2D(64,(3,3), activation='relu'),\r\n",
    "        MaxPool2D(),\r\n",
    "        Flatten(),\r\n",
    "        Dropout(0.25),\r\n",
    "        Dense(512, activation='relu'),\r\n",
    "        Dropout(0.2),\r\n",
    "        Dense(24, activation='sigmoid'),\r\n",
    "        BatchNormalization(axis=1),\r\n",
    "        Dense(10, activation=\"softmax\")\r\n",
    "        ])\r\n",
    "\r\n",
    "model2.compile(Adam(), \"categorical_crossentropy\")"
   ],
   "outputs": [],
   "metadata": {}
  },
  {
   "cell_type": "code",
   "execution_count": 84,
   "source": [
    "hist2 = model2.fit(np.array(df.iloc[:, :-1]).reshape(len(df), 28, 28, 1), y, epochs=3, batch_size=10, validation_split=0.2, shuffle=True)"
   ],
   "outputs": [
    {
     "output_type": "stream",
     "name": "stdout",
     "text": [
      "Epoch 1/3\n",
      "442/442 [==============================] - 19s 41ms/step - loss: 0.4757 - val_loss: 1.1106\n",
      "Epoch 2/3\n",
      "442/442 [==============================] - 18s 41ms/step - loss: 0.1635 - val_loss: 0.1903\n",
      "Epoch 3/3\n",
      "442/442 [==============================] - 19s 43ms/step - loss: 0.1144 - val_loss: 0.0445\n"
     ]
    }
   ],
   "metadata": {}
  },
  {
   "cell_type": "code",
   "execution_count": 86,
   "source": [
    "plt.plot(hist.history[\"loss\"])\r\n",
    "plt.plot(hist.history[\"val_loss\"])\r\n",
    "plt.plot(hist2.history[\"loss\"])\r\n",
    "plt.plot(hist2.history[\"val_loss\"]);\r\n",
    "plt.legend([\"m1_loss\", \"m1_val_loss\", \"m2_loss\", \"m2_val_loss\"])"
   ],
   "outputs": [
    {
     "output_type": "execute_result",
     "data": {
      "text/plain": [
       "<matplotlib.legend.Legend at 0xf3b64ac280>"
      ]
     },
     "metadata": {},
     "execution_count": 86
    },
    {
     "output_type": "display_data",
     "data": {
      "text/plain": [
       "<Figure size 432x288 with 1 Axes>"
      ],
      "image/png": "[encoded data removed]"
     },
     "metadata": {
      "needs_background": "light"
     }
    }
   ],
   "metadata": {}
  },
  {
   "cell_type": "code",
   "execution_count": null,
   "source": [],
   "outputs": [],
   "metadata": {}
  }
 ],
 "metadata": {
  "kernelspec": {
   "name": "python3",
   "display_name": "Python 3.9.1 64-bit"
  },
  "language_info": {
   "name": "python",
   "version": "3.9.1",
   "mimetype": "text/x-python",
   "codemirror_mode": {
    "name": "ipython",
    "version": 3
   },
   "pygments_lexer": "ipython3",
   "nbconvert_exporter": "python",
   "file_extension": ".py"
  },
  "interpreter": {
   "hash": "ac59ebe37160ed0dfa835113d9b8498d9f09ceb179beaac4002f036b9467c963"
  }
 },
 "nbformat": 4,
 "nbformat_minor": 4
}