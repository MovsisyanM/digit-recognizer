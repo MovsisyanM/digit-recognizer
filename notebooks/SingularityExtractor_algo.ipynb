{
 "cells": [
  {
   "cell_type": "markdown",
   "source": [
    "# Singularity Extractor\r\n"
   ],
   "metadata": {}
  },
  {
   "cell_type": "code",
   "execution_count": 2,
   "source": [
    "import numpy as np\r\n",
    "import tensorflow as tf\r\n",
    "\r\n",
    "seed = 173\r\n",
    "np.random.seed(seed)"
   ],
   "outputs": [],
   "metadata": {}
  },
  {
   "cell_type": "code",
   "execution_count": 3,
   "source": [
    "kernel_size = 5\r\n",
    "strides = 2\r\n",
    "padding = \"CONSTANT\"\r\n",
    "input_mat = tf.constant([\r\n",
    "    [ 1, 2, 3, 4, 5],\r\n",
    "    [ 6, 7, 8, 9,10],\r\n",
    "    [11,12, 1,14,15],\r\n",
    "    [16,17,18,19,20],\r\n",
    "    [21,22,23,24,25]\r\n",
    "])\r\n",
    "degree = 6\r\n",
    "\r\n",
    "input_shape = input_mat.shape\r\n",
    "output = np.zeros(input_shape)\r\n",
    "radius = int((kernel_size - 1)/2) * strides\r\n",
    "matpad = tf.pad(input_mat, tf.constant([[radius, radius], [radius, radius]]), mode=padding)\r\n",
    "\r\n",
    "for y in range(input_shape[1]):\r\n",
    "    for x in range(input_shape[0]):\r\n",
    "        _x, _y = x + radius, y + radius\r\n",
    "        kernel = matpad[_y - radius:_y + 1 + radius:strides, _x - radius: _x + 1 + radius:strides]\r\n",
    "        redsum = tf.reduce_sum(kernel)\r\n",
    "        output[y, x] = ((redsum - input_mat[x, y]) / redsum) ** degree\r\n",
    "\r\n",
    "print(input_mat)\r\n",
    "print(\"-----------------------\")\r\n",
    "print((tf.round(output * 100)/100)[1:-1, 1:-1])"
   ],
   "outputs": [
    {
     "output_type": "stream",
     "name": "stdout",
     "text": [
      "tf.Tensor(\n",
      "[[ 1  2  3  4  5]\n",
      " [ 6  7  8  9 10]\n",
      " [11 12  1 14 15]\n",
      " [16 17 18 19 20]\n",
      " [21 22 23 24 25]], shape=(5, 5), dtype=int32)\n",
      "-----------------------\n",
      "tf.Tensor(\n",
      "[[0.42 0.37 0.09]\n",
      " [0.52 0.94 0.21]\n",
      " [0.32 0.31 0.07]], shape=(3, 3), dtype=float64)\n"
     ]
    }
   ],
   "metadata": {}
  }
 ],
 "metadata": {
  "interpreter": {
   "hash": "ac59ebe37160ed0dfa835113d9b8498d9f09ceb179beaac4002f036b9467c963"
  },
  "kernelspec": {
   "name": "python3",
   "display_name": "Python 3.9.1 64-bit"
  },
  "language_info": {
   "codemirror_mode": {
    "name": "ipython",
    "version": 3
   },
   "file_extension": ".py",
   "mimetype": "text/x-python",
   "name": "python",
   "nbconvert_exporter": "python",
   "pygments_lexer": "ipython3",
   "version": "3.9.1"
  }
 },
 "nbformat": 4,
 "nbformat_minor": 4
}